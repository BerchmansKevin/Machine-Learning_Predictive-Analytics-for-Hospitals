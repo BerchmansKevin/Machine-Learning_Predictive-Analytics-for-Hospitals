{
 "cells": [
  {
   "cell_type": "markdown",
   "id": "7d7b9c6d",
   "metadata": {},
   "source": [
    "## Berchmans Kevin S\n",
    "\n"
   ]
  },
  {
   "cell_type": "markdown",
   "id": "39dde76d",
   "metadata": {},
   "source": [
    "## Predictive Analytics for Hospitals"
   ]
  },
  {
   "cell_type": "code",
   "execution_count": 1,
   "id": "116b9a17",
   "metadata": {},
   "outputs": [],
   "source": [
    "import warnings\n",
    "warnings.filterwarnings('ignore')"
   ]
  },
  {
   "cell_type": "markdown",
   "id": "609eba60",
   "metadata": {},
   "source": [
    "##### `Step-1: Import dataset`\n"
   ]
  },
  {
   "cell_type": "code",
   "execution_count": 2,
   "id": "fa7c1236",
   "metadata": {},
   "outputs": [],
   "source": [
    "import pandas as pd"
   ]
  },
  {
   "cell_type": "code",
   "execution_count": 3,
   "id": "52d9b387",
   "metadata": {},
   "outputs": [],
   "source": [
    "df = pd.read_csv('diabetes.csv')"
   ]
  },
  {
   "cell_type": "code",
   "execution_count": 4,
   "id": "8b54937f",
   "metadata": {},
   "outputs": [
    {
     "data": {
      "text/html": [
       "<div>\n",
       "<style scoped>\n",
       "    .dataframe tbody tr th:only-of-type {\n",
       "        vertical-align: middle;\n",
       "    }\n",
       "\n",
       "    .dataframe tbody tr th {\n",
       "        vertical-align: top;\n",
       "    }\n",
       "\n",
       "    .dataframe thead th {\n",
       "        text-align: right;\n",
       "    }\n",
       "</style>\n",
       "<table border=\"1\" class=\"dataframe\">\n",
       "  <thead>\n",
       "    <tr style=\"text-align: right;\">\n",
       "      <th></th>\n",
       "      <th>Pregnancies</th>\n",
       "      <th>Glucose</th>\n",
       "      <th>BloodPressure</th>\n",
       "      <th>SkinThickness</th>\n",
       "      <th>Insulin</th>\n",
       "      <th>BMI</th>\n",
       "      <th>DiabetesPedigreeFunction</th>\n",
       "      <th>Age</th>\n",
       "      <th>Outcome</th>\n",
       "    </tr>\n",
       "  </thead>\n",
       "  <tbody>\n",
       "    <tr>\n",
       "      <th>0</th>\n",
       "      <td>6</td>\n",
       "      <td>148</td>\n",
       "      <td>72</td>\n",
       "      <td>35</td>\n",
       "      <td>0</td>\n",
       "      <td>33.6</td>\n",
       "      <td>0.627</td>\n",
       "      <td>50</td>\n",
       "      <td>1</td>\n",
       "    </tr>\n",
       "    <tr>\n",
       "      <th>1</th>\n",
       "      <td>1</td>\n",
       "      <td>85</td>\n",
       "      <td>66</td>\n",
       "      <td>29</td>\n",
       "      <td>0</td>\n",
       "      <td>26.6</td>\n",
       "      <td>0.351</td>\n",
       "      <td>31</td>\n",
       "      <td>0</td>\n",
       "    </tr>\n",
       "    <tr>\n",
       "      <th>2</th>\n",
       "      <td>8</td>\n",
       "      <td>183</td>\n",
       "      <td>64</td>\n",
       "      <td>0</td>\n",
       "      <td>0</td>\n",
       "      <td>23.3</td>\n",
       "      <td>0.672</td>\n",
       "      <td>32</td>\n",
       "      <td>1</td>\n",
       "    </tr>\n",
       "    <tr>\n",
       "      <th>3</th>\n",
       "      <td>1</td>\n",
       "      <td>89</td>\n",
       "      <td>66</td>\n",
       "      <td>23</td>\n",
       "      <td>94</td>\n",
       "      <td>28.1</td>\n",
       "      <td>0.167</td>\n",
       "      <td>21</td>\n",
       "      <td>0</td>\n",
       "    </tr>\n",
       "    <tr>\n",
       "      <th>4</th>\n",
       "      <td>0</td>\n",
       "      <td>137</td>\n",
       "      <td>40</td>\n",
       "      <td>35</td>\n",
       "      <td>168</td>\n",
       "      <td>43.1</td>\n",
       "      <td>2.288</td>\n",
       "      <td>33</td>\n",
       "      <td>1</td>\n",
       "    </tr>\n",
       "  </tbody>\n",
       "</table>\n",
       "</div>"
      ],
      "text/plain": [
       "   Pregnancies  Glucose  BloodPressure  SkinThickness  Insulin   BMI  \\\n",
       "0            6      148             72             35        0  33.6   \n",
       "1            1       85             66             29        0  26.6   \n",
       "2            8      183             64              0        0  23.3   \n",
       "3            1       89             66             23       94  28.1   \n",
       "4            0      137             40             35      168  43.1   \n",
       "\n",
       "   DiabetesPedigreeFunction  Age  Outcome  \n",
       "0                     0.627   50        1  \n",
       "1                     0.351   31        0  \n",
       "2                     0.672   32        1  \n",
       "3                     0.167   21        0  \n",
       "4                     2.288   33        1  "
      ]
     },
     "execution_count": 4,
     "metadata": {},
     "output_type": "execute_result"
    }
   ],
   "source": [
    "# Printing the first five rows of the dataset\n",
    "\n",
    "df.head()"
   ]
  },
  {
   "cell_type": "code",
   "execution_count": 5,
   "id": "4360dac6",
   "metadata": {},
   "outputs": [
    {
     "data": {
      "text/plain": [
       "(768, 9)"
      ]
     },
     "execution_count": 5,
     "metadata": {},
     "output_type": "execute_result"
    }
   ],
   "source": [
    "# Printing the shape of the dataset\n",
    "df.shape"
   ]
  },
  {
   "cell_type": "code",
   "execution_count": 6,
   "id": "80b90673",
   "metadata": {},
   "outputs": [
    {
     "data": {
      "text/plain": [
       "6912"
      ]
     },
     "execution_count": 6,
     "metadata": {},
     "output_type": "execute_result"
    }
   ],
   "source": [
    "# Printing the total no. of elements in the dataset\n",
    "\n",
    "df.size"
   ]
  },
  {
   "cell_type": "code",
   "execution_count": 7,
   "id": "0d55943b",
   "metadata": {},
   "outputs": [
    {
     "data": {
      "text/plain": [
       "Index(['Pregnancies', 'Glucose', 'BloodPressure', 'SkinThickness', 'Insulin',\n",
       "       'BMI', 'DiabetesPedigreeFunction', 'Age', 'Outcome'],\n",
       "      dtype='object')"
      ]
     },
     "execution_count": 7,
     "metadata": {},
     "output_type": "execute_result"
    }
   ],
   "source": [
    "# Printing all the attributes of the dataset\n",
    "\n",
    "df.columns"
   ]
  },
  {
   "cell_type": "code",
   "execution_count": 8,
   "id": "6c05f83b",
   "metadata": {},
   "outputs": [
    {
     "data": {
      "text/plain": [
       "Pregnancies                   int64\n",
       "Glucose                       int64\n",
       "BloodPressure                 int64\n",
       "SkinThickness                 int64\n",
       "Insulin                       int64\n",
       "BMI                         float64\n",
       "DiabetesPedigreeFunction    float64\n",
       "Age                           int64\n",
       "Outcome                       int64\n",
       "dtype: object"
      ]
     },
     "execution_count": 8,
     "metadata": {},
     "output_type": "execute_result"
    }
   ],
   "source": [
    "# Printing type of attributes of the dataset\n",
    "\n",
    "df.dtypes"
   ]
  },
  {
   "cell_type": "code",
   "execution_count": 9,
   "id": "c09ee736",
   "metadata": {},
   "outputs": [
    {
     "name": "stdout",
     "output_type": "stream",
     "text": [
      "<class 'pandas.core.frame.DataFrame'>\n",
      "RangeIndex: 768 entries, 0 to 767\n",
      "Data columns (total 9 columns):\n",
      " #   Column                    Non-Null Count  Dtype  \n",
      "---  ------                    --------------  -----  \n",
      " 0   Pregnancies               768 non-null    int64  \n",
      " 1   Glucose                   768 non-null    int64  \n",
      " 2   BloodPressure             768 non-null    int64  \n",
      " 3   SkinThickness             768 non-null    int64  \n",
      " 4   Insulin                   768 non-null    int64  \n",
      " 5   BMI                       768 non-null    float64\n",
      " 6   DiabetesPedigreeFunction  768 non-null    float64\n",
      " 7   Age                       768 non-null    int64  \n",
      " 8   Outcome                   768 non-null    int64  \n",
      "dtypes: float64(2), int64(7)\n",
      "memory usage: 54.1 KB\n"
     ]
    }
   ],
   "source": [
    "# Printing summary of the dataset\n",
    "\n",
    "df.info()"
   ]
  },
  {
   "cell_type": "code",
   "execution_count": 10,
   "id": "f5648fab",
   "metadata": {},
   "outputs": [
    {
     "data": {
      "text/plain": [
       "Pregnancies  Glucose  BloodPressure  SkinThickness  Insulin  BMI   DiabetesPedigreeFunction  Age  Outcome\n",
       "0            57       60             0              0        21.7  0.735                     67   0          1\n",
       "             67       76             0              0        45.3  0.194                     46   0          1\n",
       "5            103      108            37             0        39.2  0.305                     65   0          1\n",
       "             104      74             0              0        28.8  0.153                     48   0          1\n",
       "             105      72             29             325      36.9  0.159                     28   0          1\n",
       "                                                                                                            ..\n",
       "2            84       50             23             76       30.4  0.968                     21   0          1\n",
       "             85       65             0              0        39.6  0.930                     27   0          1\n",
       "             87       0              23             0        28.9  0.773                     25   0          1\n",
       "                      58             16             52       32.7  0.166                     25   0          1\n",
       "17           163      72             41             114      40.9  0.817                     47   1          1\n",
       "Length: 768, dtype: int64"
      ]
     },
     "execution_count": 10,
     "metadata": {},
     "output_type": "execute_result"
    }
   ],
   "source": [
    "# Printing unique value counts of the dataset\n",
    "df.value_counts()"
   ]
  },
  {
   "cell_type": "markdown",
   "id": "a8ac0dc4",
   "metadata": {},
   "source": [
    "##### `Step-2: Identify relationships between feature`"
   ]
  },
  {
   "cell_type": "code",
   "execution_count": 11,
   "id": "b92e7e32",
   "metadata": {},
   "outputs": [
    {
     "data": {
      "text/plain": [
       "<AxesSubplot:>"
      ]
     },
     "execution_count": 11,
     "metadata": {},
     "output_type": "execute_result"
    },
    {
     "data": {
      "image/png": "[encoded data removed]",
      "text/plain": [
       "<Figure size 432x288 with 2 Axes>"
      ]
     },
     "metadata": {
      "needs_background": "light"
     },
     "output_type": "display_data"
    }
   ],
   "source": [
    "# create heatmap for the dataset to understand the data\n",
    "\n",
    "import seaborn as sns\n",
    "import matplotlib.pyplot as plt\n",
    "sns.heatmap(df.head(), annot=True)"
   ]
  },
  {
   "cell_type": "markdown",
   "id": "d14faca3",
   "metadata": {},
   "source": [
    "##### `Step-3: Prediction using one feature`\n",
    "#### `Create Logistic Regression Mode`"
   ]
  },
  {
   "cell_type": "code",
   "execution_count": 12,
   "id": "62036503",
   "metadata": {},
   "outputs": [
    {
     "data": {
      "text/plain": [
       "array([0, 0, 0, 0, 1, 1, 0, 0, 0, 1, 0, 1, 0, 0, 0, 0, 0, 0, 0, 0, 1, 0,\n",
       "       0, 0, 0, 0, 0, 0, 0, 0, 0, 1, 0, 0, 1, 0, 1, 0, 1, 0, 0, 1, 1, 0,\n",
       "       0, 0, 1, 0, 1, 1, 0, 1, 1, 0, 0, 0, 1, 0, 0, 0, 0, 0, 1, 0, 0, 0,\n",
       "       0, 0, 0, 0, 0, 0, 1, 0, 0, 1, 1, 0, 0, 0, 0, 0, 0, 0, 0, 0, 0, 0,\n",
       "       0, 0, 0, 0, 0, 0, 0, 0, 0, 0, 0, 0, 1, 0, 0, 0, 0, 0, 0, 0, 0, 0,\n",
       "       0, 0, 0, 0, 0, 0, 0, 0, 0, 0, 0, 0, 0, 0, 0, 1, 0, 1, 0, 0, 0, 0,\n",
       "       0, 0, 0, 0, 0, 0, 1, 0, 0, 0, 0, 0, 0, 0, 0, 0, 0, 1, 0, 1, 0, 0,\n",
       "       0, 1, 0, 1, 1, 0, 0, 1, 0, 0, 0, 0, 0, 0, 0, 0, 0, 0, 0, 0, 0, 0,\n",
       "       0, 1, 0, 0, 1, 0, 0, 0, 0, 0, 0, 0, 1, 0, 0, 0], dtype=int64)"
      ]
     },
     "execution_count": 12,
     "metadata": {},
     "output_type": "execute_result"
    }
   ],
   "source": [
    "X = df[['Age']]\n",
    "y = df[['Outcome']]\n",
    "\n",
    "from sklearn.model_selection import train_test_split\n",
    "X_train, X_test, y_train, y_test = train_test_split(X, y, test_size=0.25, random_state=42)\n",
    "\n",
    "from sklearn.linear_model import LogisticRegression\n",
    "lor = LogisticRegression()\n",
    "lor.fit(X_train, y_train)\n",
    "lor.predict(X_test)"
   ]
  },
  {
   "cell_type": "markdown",
   "id": "f42ec5ec",
   "metadata": {},
   "source": [
    "#####   `Model parameter values`"
   ]
  },
  {
   "cell_type": "code",
   "execution_count": 13,
   "id": "a9f538a2",
   "metadata": {},
   "outputs": [
    {
     "name": "stdout",
     "output_type": "stream",
     "text": [
      "coef_ :  [[0.05221912]]\n"
     ]
    }
   ],
   "source": [
    "print(\"coef_ : \",lor.coef_)"
   ]
  },
  {
   "cell_type": "code",
   "execution_count": 14,
   "id": "4a4df5a0",
   "metadata": {},
   "outputs": [
    {
     "name": "stdout",
     "output_type": "stream",
     "text": [
      "intercept_ :  [-2.39506398]\n"
     ]
    }
   ],
   "source": [
    "print(\"intercept_ : \",lor.intercept_)"
   ]
  },
  {
   "cell_type": "markdown",
   "id": "245254f9",
   "metadata": {},
   "source": [
    "##### `Query: A person is 60 years old, will he be diabetic?`"
   ]
  },
  {
   "cell_type": "code",
   "execution_count": 15,
   "id": "63c55cca",
   "metadata": {},
   "outputs": [
    {
     "name": "stdout",
     "output_type": "stream",
     "text": [
      "YES, person with 60 years will become diabetic\n"
     ]
    }
   ],
   "source": [
    "y_pred = lor.predict([[60]])[0]\n",
    "\n",
    "if y_pred == 1:\n",
    " print('YES, person with 60 years will become diabetic')\n",
    "\n",
    "elif y_pred == 0:\n",
    " print('NO, person with 60 years will not be diabetic')"
   ]
  },
  {
   "cell_type": "markdown",
   "id": "97fcc9a6",
   "metadata": {},
   "source": [
    "##### `Model parameters and function value`\n"
   ]
  },
  {
   "cell_type": "code",
   "execution_count": 16,
   "id": "62db8213",
   "metadata": {},
   "outputs": [
    {
     "name": "stdout",
     "output_type": "stream",
     "text": [
      "YES, he will become diabetic\n"
     ]
    }
   ],
   "source": [
    "lrf = lor.coef_ * 60 + lor.intercept_\n",
    "\n",
    "from scipy.special import expit\n",
    "expit(lrf)\n",
    "if expit(lrf) > 0.5:\n",
    " print('YES, he will become diabetic')\n",
    "else:\n",
    " print('NO, he will not be diabetic')"
   ]
  },
  {
   "cell_type": "markdown",
   "id": "5ece9cd4",
   "metadata": {},
   "source": [
    "##### `Step-4: Prediction using many features`\n",
    "#### `Selecting 3 features`"
   ]
  },
  {
   "cell_type": "code",
   "execution_count": 17,
   "id": "d488b127",
   "metadata": {},
   "outputs": [],
   "source": [
    "X1 = df[['Glucose','BMI','Age']]\n",
    "y1 = df[['Outcome']]\n",
    "X1_train, X1_test, y1_train, y1_test = train_test_split(X1, y1, test_size=0.25, random_state=42)"
   ]
  },
  {
   "cell_type": "markdown",
   "id": "27718b45",
   "metadata": {},
   "source": [
    "##### `Creating new lor model for 3 features`"
   ]
  },
  {
   "cell_type": "code",
   "execution_count": 18,
   "id": "935c5b39",
   "metadata": {},
   "outputs": [
    {
     "data": {
      "text/plain": [
       "array([0, 0, 0, 0, 1, 1, 0, 0, 1, 1, 0, 1, 0, 0, 0, 0, 0, 0, 1, 1, 0, 0,\n",
       "       0, 0, 1, 1, 0, 0, 0, 0, 1, 1, 1, 1, 1, 1, 1, 0, 0, 1, 0, 1, 1, 0,\n",
       "       0, 1, 1, 0, 0, 1, 0, 1, 1, 0, 0, 0, 1, 0, 0, 1, 1, 0, 0, 0, 0, 1,\n",
       "       0, 1, 0, 1, 1, 0, 0, 0, 0, 1, 0, 0, 0, 0, 1, 0, 0, 1, 0, 1, 1, 0,\n",
       "       0, 0, 0, 0, 0, 0, 0, 1, 0, 0, 1, 0, 1, 0, 1, 1, 1, 0, 0, 1, 0, 0,\n",
       "       0, 0, 0, 1, 0, 0, 1, 0, 0, 0, 0, 0, 0, 0, 0, 0, 0, 1, 1, 1, 1, 1,\n",
       "       0, 0, 1, 0, 0, 1, 1, 0, 0, 0, 0, 1, 0, 0, 0, 0, 0, 1, 0, 0, 0, 0,\n",
       "       0, 0, 0, 1, 1, 0, 0, 1, 0, 0, 0, 1, 0, 0, 1, 0, 1, 0, 0, 1, 1, 0,\n",
       "       0, 0, 0, 0, 1, 1, 0, 1, 1, 0, 0, 0, 1, 0, 0, 0], dtype=int64)"
      ]
     },
     "execution_count": 18,
     "metadata": {},
     "output_type": "execute_result"
    }
   ],
   "source": [
    "lor1 = LogisticRegression()\n",
    "lor1.fit(X1_train, y1_train)\n",
    "lor1.predict(X1_test)"
   ]
  },
  {
   "cell_type": "markdown",
   "id": "e61db394",
   "metadata": {},
   "source": [
    "##### `Query: For a person Glucose=150, BMI=30, Age=40, will he be diabetic?`"
   ]
  },
  {
   "cell_type": "code",
   "execution_count": 19,
   "id": "c5d7aa8b",
   "metadata": {},
   "outputs": [
    {
     "name": "stdout",
     "output_type": "stream",
     "text": [
      "coef_ :  [[0.03326879 0.09717039 0.04404934]]\n",
      "intercept_ :  [-9.47396587]\n"
     ]
    }
   ],
   "source": [
    "print(\"coef_ : \",lor1.coef_)\n",
    "print(\"intercept_ : \",lor1.intercept_)"
   ]
  },
  {
   "cell_type": "code",
   "execution_count": 20,
   "id": "b7ecb883",
   "metadata": {},
   "outputs": [
    {
     "data": {
      "text/plain": [
       "array([[1., 1., 1.]])"
      ]
     },
     "execution_count": 20,
     "metadata": {},
     "output_type": "execute_result"
    }
   ],
   "source": [
    "lrf1 = lor1.coef_ * 150 * 30 * 40 + lor1.intercept_\n",
    "from scipy.special import expit\n",
    "expit(lrf1)"
   ]
  },
  {
   "cell_type": "code",
   "execution_count": 21,
   "id": "a078f8c8",
   "metadata": {},
   "outputs": [
    {
     "data": {
      "text/plain": [
       "array([[0.45179089, 0.54820911]])"
      ]
     },
     "execution_count": 21,
     "metadata": {},
     "output_type": "execute_result"
    }
   ],
   "source": [
    "lor1.predict_proba([[150,30,40]])"
   ]
  },
  {
   "cell_type": "code",
   "execution_count": 22,
   "id": "71dd6fe3",
   "metadata": {},
   "outputs": [
    {
     "name": "stdout",
     "output_type": "stream",
     "text": [
      "YES, person with Glucose=150, BMI=30, Age=40 will become diabetic\n"
     ]
    }
   ],
   "source": [
    "y1_pred = lor1.predict([[150,30,40]])[0]\n",
    "\n",
    "if y1_pred == 1:\n",
    " print('YES, person with Glucose=150, BMI=30, Age=40 will become diabetic')\n",
    "elif y1_pred == 0:\n",
    " print('NO, person with Glucose=150, BMI=30, Age=40 will not be diabetic')"
   ]
  },
  {
   "cell_type": "markdown",
   "id": "f5e257cb",
   "metadata": {},
   "source": [
    "#### `Step-5: Build LOR model with all features`\n",
    "#### `Creating lor model for all features`"
   ]
  },
  {
   "cell_type": "code",
   "execution_count": 23,
   "id": "8a2a90ea",
   "metadata": {},
   "outputs": [
    {
     "data": {
      "text/plain": [
       "array([0, 0, 0, 0, 0, 0, 0, 1, 1, 1, 0, 1, 0, 0, 0, 0, 0, 0, 1, 1, 0, 0,\n",
       "       1, 0, 1, 1, 0, 0, 0, 0, 1, 1, 1, 1, 1, 1, 1, 0, 1, 1, 0, 1, 1, 0,\n",
       "       0, 1, 1, 0, 0, 1, 0, 1, 1, 0, 0, 0, 1, 0, 0, 1, 1, 0, 0, 0, 0, 1,\n",
       "       0, 1, 0, 1, 1, 0, 0, 0, 0, 1, 0, 0, 0, 0, 1, 0, 0, 0, 0, 1, 1, 0,\n",
       "       0, 0, 0, 0, 0, 1, 1, 1, 0, 0, 1, 0, 1, 0, 1, 1, 1, 0, 0, 1, 0, 1,\n",
       "       0, 0, 0, 1, 0, 0, 1, 0, 0, 1, 0, 0, 0, 0, 0, 0, 0, 1, 1, 1, 1, 1,\n",
       "       0, 0, 1, 0, 0, 1, 1, 0, 0, 0, 0, 0, 0, 0, 0, 0, 0, 1, 0, 0, 0, 0,\n",
       "       0, 0, 0, 1, 1, 0, 1, 1, 0, 0, 0, 1, 0, 0, 1, 1, 1, 0, 0, 1, 1, 0,\n",
       "       0, 0, 0, 0, 1, 1, 0, 1, 1, 0, 0, 0, 1, 0, 0, 0], dtype=int64)"
      ]
     },
     "execution_count": 23,
     "metadata": {},
     "output_type": "execute_result"
    }
   ],
   "source": [
    "X2 = df.drop(['Outcome'],axis=1)\n",
    "y2 = df[['Outcome']]\n",
    "\n",
    "X2_train, X2_test, y2_train, y2_test = train_test_split(X2, y2, test_size=0.25, random_state=42)\n",
    "lor2 = LogisticRegression()\n",
    "lor2.fit(X2_train,y2_train)                                                      \n",
    "y2_pred = lor2.predict(X2_test)\n",
    "y2_pred"
   ]
  },
  {
   "cell_type": "markdown",
   "id": "af284bb5",
   "metadata": {},
   "source": [
    "##### ` AUC Score `"
   ]
  },
  {
   "cell_type": "code",
   "execution_count": 24,
   "id": "87e75058",
   "metadata": {},
   "outputs": [
    {
     "name": "stdout",
     "output_type": "stream",
     "text": [
      "AUC Score: 0.7122658183103571\n"
     ]
    }
   ],
   "source": [
    "from sklearn.metrics import roc_auc_score\n",
    "lor_auc = roc_auc_score(y2_test, y2_pred)\n",
    "print(\"AUC Score:\", lor_auc)"
   ]
  },
  {
   "cell_type": "markdown",
   "id": "d4dbd60b",
   "metadata": {},
   "source": [
    "#### `Step-6: Forward selection procedure`\n",
    "#### `Function get_auc()`"
   ]
  },
  {
   "cell_type": "code",
   "execution_count": 25,
   "id": "44ff687a",
   "metadata": {},
   "outputs": [
    {
     "data": {
      "text/plain": [
       "0.8109328358208956"
      ]
     },
     "execution_count": 25,
     "metadata": {},
     "output_type": "execute_result"
    }
   ],
   "source": [
    "def get_auc(var, tar, df):\n",
    "    fX = df[var]\n",
    "    fy = df[tar]\n",
    "    lor4 = LogisticRegression()\n",
    "    lor4.fit(fX, fy)\n",
    "    pred = lor4.predict_proba(fX)[:,1]\n",
    "    auc_val = roc_auc_score(y2, pred)\n",
    "    return auc_val\n",
    "\n",
    "get_auc(['Glucose', 'BMI'], ['Outcome'], df)"
   ]
  },
  {
   "cell_type": "code",
   "execution_count": 26,
   "id": "dcfc7d5c",
   "metadata": {},
   "outputs": [
    {
     "data": {
      "text/plain": [
       "0.6444962686567164"
      ]
     },
     "execution_count": 26,
     "metadata": {},
     "output_type": "execute_result"
    }
   ],
   "source": [
    "get_auc(['Pregnancies','BloodPressure','SkinThickness'], ['Outcome'], df)"
   ]
  },
  {
   "cell_type": "markdown",
   "id": "73b5e51d",
   "metadata": {},
   "source": [
    "##### `Function best_next()`"
   ]
  },
  {
   "cell_type": "code",
   "execution_count": 27,
   "id": "d698873b",
   "metadata": {},
   "outputs": [],
   "source": [
    "def best_next(current, cand, tar, df):\n",
    "    best_auc = -1\n",
    "    best_var = None\n",
    "    for i in cand:\n",
    "        auc_v = get_auc(current+[i], tar, df)\n",
    "        if auc_v >= best_auc:\n",
    "            best_auc = auc_v\n",
    "            best_var = i\n",
    "    return best_var"
   ]
  },
  {
   "cell_type": "code",
   "execution_count": 28,
   "id": "0d383807",
   "metadata": {},
   "outputs": [
    {
     "name": "stdout",
     "output_type": "stream",
     "text": [
      "Glucose\n"
     ]
    }
   ],
   "source": [
    "tar = ['Outcome']\n",
    "current = ['Insulin','BMI','DiabetesPedigreeFunction','Age']\n",
    "cand = ['Pregnancies','Glucose','BloodPressure','SkinThickness']\n",
    "next_var = best_next(current, cand, tar, df)\n",
    "print(next_var)\n"
   ]
  },
  {
   "cell_type": "code",
   "execution_count": 29,
   "id": "923c14ad",
   "metadata": {},
   "outputs": [
    {
     "name": "stdout",
     "output_type": "stream",
     "text": [
      "Variable added in Step 1 is Outcome.\n",
      "Variable added in Step 2 is Age.\n",
      "Variable added in Step 3 is DiabetesPedigreeFunction.\n",
      "Variable added in Step 4 is BMI.\n",
      "Variable added in Step 5 is Insulin.\n",
      "Variable added in Step 6 is SkinThickness.\n",
      "Variable added in Step 7 is BloodPressure.\n"
     ]
    }
   ],
   "source": [
    "tar = [\"Outcome\"]\n",
    "current = []\n",
    "cand = ['Pregnancies', 'Glucose', 'BloodPressure', 'SkinThickness', 'Insulin', 'BMI', 'DiabetesPedigreeFunction', 'Age', 'Outcome']\n",
    "\n",
    "max_num = 7\n",
    "num_it = min(max_num, len(cand))\n",
    "for i in range(0, num_it):\n",
    " next_var = best_next(current, cand, tar, df)\n",
    " current += [next_var]\n",
    " cand.remove(next_var)\n",
    " print(\"Variable added in Step \"+str(i+1) +' is ' + next_var +\".\")"
   ]
  },
  {
   "cell_type": "code",
   "execution_count": 30,
   "id": "de97f465",
   "metadata": {},
   "outputs": [
    {
     "name": "stdout",
     "output_type": "stream",
     "text": [
      "['Outcome', 'Age', 'DiabetesPedigreeFunction', 'BMI', 'Insulin', 'SkinThickness', 'BloodPressure']\n"
     ]
    }
   ],
   "source": [
    "print(current)"
   ]
  },
  {
   "cell_type": "markdown",
   "id": "6e8e4cbc",
   "metadata": {},
   "source": [
    "##### ` Step-7: PLOT LINE GRAPH OF AUC VALUES AND SELCECT CUT-OFF`"
   ]
  },
  {
   "cell_type": "code",
   "execution_count": 31,
   "id": "6a2fcd52",
   "metadata": {},
   "outputs": [],
   "source": [
    "X2_train, X2_test, y2_train, y2_test = train_test_split(X2, y2, stratify=y2, test_size=0.5, random_state=42)"
   ]
  },
  {
   "cell_type": "code",
   "execution_count": 32,
   "id": "9edd6ecb",
   "metadata": {},
   "outputs": [],
   "source": [
    "prediction = lor2.predict_proba(X2_test)"
   ]
  },
  {
   "cell_type": "code",
   "execution_count": 33,
   "id": "501498fb",
   "metadata": {},
   "outputs": [],
   "source": [
    "# plot AUC values for each variable\n",
    "\n",
    "train = pd.concat([X2_train, y2_train], axis =1)\n",
    "test = pd.concat([X2_test, y2_test], axis =1)\n",
    "\n",
    "def auc_train_test (variables, target, train, test):\n",
    "    X_train = train [variables]\n",
    "    X_test = test[variables]\n",
    "    Y_train = train[target]\n",
    "    Y_test = test[target]\n",
    "    LOR3 = LogisticRegression()\n",
    "    LOR3.fit(X_train, Y_train)\n",
    "    predictions_train = LOR3.predict_proba(X_train)[:,1]\n",
    "    predictions_test = LOR3.predict_proba(X_test)[:,1]\n",
    "    auc_train = roc_auc_score(Y_train, predictions_train)\n",
    "    auc_test = roc_auc_score(Y_train, predictions_test)\n",
    "    return (auc_train, auc_test)\n",
    "\n",
    "auc_values_train = []\n",
    "auc_values_test = []\n",
    "variables_evaluate = []\n",
    "\n",
    "for v in X2.columns:\n",
    "    variables_evaluate.append(v)\n",
    "    auc_train, auc_test = auc_train_test(variables_evaluate, ['Outcome'], train, test)\n",
    "    auc_values_train.append(auc_train)\n",
    "    auc_values_test.append(auc_test)\n",
    "    \n"
   ]
  },
  {
   "cell_type": "code",
   "execution_count": 34,
   "id": "2a5721f1",
   "metadata": {},
   "outputs": [
    {
     "data": {
      "image/png": "[encoded data removed]",
      "text/plain": [
       "<Figure size 432x288 with 1 Axes>"
      ]
     },
     "metadata": {
      "needs_background": "light"
     },
     "output_type": "display_data"
    }
   ],
   "source": [
    "import matplotlib.pyplot as plt\n",
    "import numpy as np\n",
    "\n",
    "x = np.array(range(0, len(auc_values_train)))\n",
    "my_train = np.array(auc_values_train)\n",
    "my_test = np.array(auc_values_test)\n",
    "\n",
    "plt.xticks(x, X2.columns, rotation =90)\n",
    "plt.plot(x, my_train)\n",
    "plt.plot(x, my_test)\n",
    "plt.ylim(0.5, 1)\n",
    "plt.show()"
   ]
  },
  {
   "cell_type": "markdown",
   "id": "72192c92",
   "metadata": {},
   "source": [
    "### Step-8: DRAW CUMULATIVE GAIN CHART AND LIFT CHART"
   ]
  },
  {
   "cell_type": "code",
   "execution_count": 35,
   "id": "a26969cb",
   "metadata": {},
   "outputs": [
    {
     "data": {
      "image/png": "[encoded data removed]",
      "text/plain": [
       "<Figure size 432x288 with 1 Axes>"
      ]
     },
     "metadata": {
      "needs_background": "light"
     },
     "output_type": "display_data"
    },
    {
     "data": {
      "text/plain": [
       "<Figure size 504x504 with 0 Axes>"
      ]
     },
     "metadata": {},
     "output_type": "display_data"
    },
    {
     "data": {
      "image/png": "[encoded data removed]",
      "text/plain": [
       "<Figure size 432x288 with 1 Axes>"
      ]
     },
     "metadata": {
      "needs_background": "light"
     },
     "output_type": "display_data"
    }
   ],
   "source": [
    "import scikitplot as skplt\n",
    "\n",
    "skplt.metrics.plot_cumulative_gain(y2_test, prediction)\n",
    "plt.show()\n",
    "\n",
    "plt.figure(figsize=(7,7))\n",
    "skplt.metrics.plot_lift_curve(y2_test, prediction)\n",
    "plt.show()"
   ]
  }
 ],
 "metadata": {
  "kernelspec": {
   "display_name": "Python 3 (ipykernel)",
   "language": "python",
   "name": "python3"
  },
  "language_info": {
   "codemirror_mode": {
    "name": "ipython",
    "version": 3
   },
   "file_extension": ".py",
   "mimetype": "text/x-python",
   "name": "python",
   "nbconvert_exporter": "python",
   "pygments_lexer": "ipython3",
   "version": "3.9.12"
  }
 },
 "nbformat": 4,
 "nbformat_minor": 5
}
